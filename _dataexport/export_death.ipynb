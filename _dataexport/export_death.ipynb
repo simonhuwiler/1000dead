{
 "cells": [
  {
   "cell_type": "markdown",
   "metadata": {},
   "source": [
    "# Export la muerte"
   ]
  },
  {
   "cell_type": "code",
   "execution_count": 4,
   "metadata": {},
   "outputs": [],
   "source": [
    "import pandas as pd"
   ]
  },
  {
   "cell_type": "code",
   "execution_count": 9,
   "metadata": {},
   "outputs": [],
   "source": [
    "df_raw = pd.read_csv('https://raw.githubusercontent.com/openZH/covid_19/master/fallzahlen_kanton_zh/COVID19_Fallzahlen_Kanton_ZH_total.csv')"
   ]
  },
  {
   "cell_type": "code",
   "execution_count": 10,
   "metadata": {},
   "outputs": [],
   "source": [
    "df = df_raw.copy()\n",
    "df['ncumul_deceased'] = df['ncumul_deceased'].fillna(0)\n",
    "#df = df.head(20)\n",
    "df['date'] = pd.to_datetime(df['date'])\n",
    "df['death'] = df['ncumul_deceased'].diff()\n",
    "\n",
    "# Remove before 2020-03-15\n",
    "df = df[df.date >= '2020-03-15']\n",
    "\n",
    "# Create Day\n",
    "df = df.reset_index(drop=True)\n",
    "df = df.reset_index(drop=False)\n",
    "df.rename(columns={'index': 'day'}, inplace=True)\n",
    "\n",
    "df = df[df.day <= 299]\n",
    "\n",
    "df = df[['day', 'date', 'death']]"
   ]
  },
  {
   "cell_type": "code",
   "execution_count": 14,
   "metadata": {},
   "outputs": [],
   "source": [
    "#df.to_json('../src/components/stage/data.json', orient='records')\n",
    "df.to_json('..\\\\src\\\\data\\\\data.json', orient='records')"
   ]
  },
  {
   "cell_type": "code",
   "execution_count": null,
   "metadata": {},
   "outputs": [],
   "source": []
  }
 ],
 "metadata": {
  "kernelspec": {
   "display_name": "Python 3",
   "language": "python",
   "name": "python3"
  },
  "language_info": {
   "codemirror_mode": {
    "name": "ipython",
    "version": 3
   },
   "file_extension": ".py",
   "mimetype": "text/x-python",
   "name": "python",
   "nbconvert_exporter": "python",
   "pygments_lexer": "ipython3",
   "version": "3.9.0"
  }
 },
 "nbformat": 4,
 "nbformat_minor": 4
}
